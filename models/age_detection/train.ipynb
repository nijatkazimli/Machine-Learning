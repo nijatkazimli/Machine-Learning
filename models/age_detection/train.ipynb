{
 "cells": [
  {
   "cell_type": "markdown",
   "id": "e68f83b9-fa79-4238-8721-bbed1fd1e45b",
   "metadata": {},
   "source": [
    "## Import the modules"
   ]
  },
  {
   "cell_type": "code",
   "execution_count": 1,
   "id": "dda14636-c506-4f8f-a386-10ff576bce38",
   "metadata": {},
   "outputs": [
    {
     "name": "stdout",
     "output_type": "stream",
     "text": [
      "WARNING:tensorflow:From C:\\Users\\nctkz\\AppData\\Local\\Programs\\Python\\Python311\\Lib\\site-packages\\keras\\src\\losses.py:2976: The name tf.losses.sparse_softmax_cross_entropy is deprecated. Please use tf.compat.v1.losses.sparse_softmax_cross_entropy instead.\n",
      "\n"
     ]
    }
   ],
   "source": [
    "import pandas as pd\n",
    "import numpy as np\n",
    "import os\n",
    "import warnings\n",
    "from tqdm.notebook import tqdm\n",
    "warnings.filterwarnings('ignore')\n",
    "\n",
    "import tensorflow as tf\n",
    "from keras.preprocessing.image import load_img\n",
    "from keras.models import Sequential, Model\n",
    "from keras.layers import Dense, Conv2D, Dropout, Flatten, MaxPooling2D, Input"
   ]
  },
  {
   "cell_type": "markdown",
   "id": "0d52bf77-a5d7-4a17-9c60-2905e1a2f1eb",
   "metadata": {},
   "source": [
    "## Load the dataset"
   ]
  },
  {
   "cell_type": "code",
   "execution_count": 2,
   "id": "65469e75-2e96-43b4-98d6-4e6eb29c8e72",
   "metadata": {},
   "outputs": [],
   "source": [
    "BASE_DIR = '../../dataset/'"
   ]
  },
  {
   "cell_type": "code",
   "execution_count": 3,
   "id": "3aea3c29-5cc2-488d-9aa1-3bd79789d46f",
   "metadata": {},
   "outputs": [
    {
     "data": {
      "application/vnd.jupyter.widget-view+json": {
       "model_id": "cc8c44c9c72a4baeaa327c91673472de",
       "version_major": 2,
       "version_minor": 0
      },
      "text/plain": [
       "  0%|          | 0/23700 [00:00<?, ?it/s]"
      ]
     },
     "metadata": {},
     "output_type": "display_data"
    }
   ],
   "source": [
    "# labels - age\n",
    "image_paths = []\n",
    "age_labels = []\n",
    "\n",
    "for filename in tqdm(os.listdir(BASE_DIR)):\n",
    "    image_path = os.path.join(BASE_DIR, filename)\n",
    "    temp = filename.split('_')\n",
    "    age = int(temp[0])\n",
    "    image_paths.append(image_path)\n",
    "    age_labels.append(age)"
   ]
  },
  {
   "cell_type": "code",
   "execution_count": 4,
   "id": "c865c216-d0a1-412e-8fd8-cb555f91d222",
   "metadata": {},
   "outputs": [
    {
     "data": {
      "text/html": [
       "<div>\n",
       "<style scoped>\n",
       "    .dataframe tbody tr th:only-of-type {\n",
       "        vertical-align: middle;\n",
       "    }\n",
       "\n",
       "    .dataframe tbody tr th {\n",
       "        vertical-align: top;\n",
       "    }\n",
       "\n",
       "    .dataframe thead th {\n",
       "        text-align: right;\n",
       "    }\n",
       "</style>\n",
       "<table border=\"1\" class=\"dataframe\">\n",
       "  <thead>\n",
       "    <tr style=\"text-align: right;\">\n",
       "      <th></th>\n",
       "      <th>image</th>\n",
       "      <th>age</th>\n",
       "    </tr>\n",
       "  </thead>\n",
       "  <tbody>\n",
       "    <tr>\n",
       "      <th>0</th>\n",
       "      <td>../../dataset/100_0_0_20170112213001988.jpg.ch...</td>\n",
       "      <td>100</td>\n",
       "    </tr>\n",
       "    <tr>\n",
       "      <th>1</th>\n",
       "      <td>../../dataset/100_0_0_20170112213500903.jpg.ch...</td>\n",
       "      <td>100</td>\n",
       "    </tr>\n",
       "    <tr>\n",
       "      <th>2</th>\n",
       "      <td>../../dataset/100_0_0_20170112213500903.jpg.ch...</td>\n",
       "      <td>100</td>\n",
       "    </tr>\n",
       "    <tr>\n",
       "      <th>3</th>\n",
       "      <td>../../dataset/100_0_0_20170112213500903.jpg.ch...</td>\n",
       "      <td>100</td>\n",
       "    </tr>\n",
       "    <tr>\n",
       "      <th>4</th>\n",
       "      <td>../../dataset/100_0_0_20170112215240346.jpg.ch...</td>\n",
       "      <td>100</td>\n",
       "    </tr>\n",
       "  </tbody>\n",
       "</table>\n",
       "</div>"
      ],
      "text/plain": [
       "                                               image  age\n",
       "0  ../../dataset/100_0_0_20170112213001988.jpg.ch...  100\n",
       "1  ../../dataset/100_0_0_20170112213500903.jpg.ch...  100\n",
       "2  ../../dataset/100_0_0_20170112213500903.jpg.ch...  100\n",
       "3  ../../dataset/100_0_0_20170112213500903.jpg.ch...  100\n",
       "4  ../../dataset/100_0_0_20170112215240346.jpg.ch...  100"
      ]
     },
     "execution_count": 4,
     "metadata": {},
     "output_type": "execute_result"
    }
   ],
   "source": [
    "# convert to dataframe\n",
    "df = pd.DataFrame()\n",
    "df['image'], df['age'] = image_paths, age_labels\n",
    "df.head()"
   ]
  },
  {
   "cell_type": "markdown",
   "id": "f5596fe2-1612-4eda-80bc-59478d9500d4",
   "metadata": {},
   "source": [
    "## Feature Extraction"
   ]
  },
  {
   "cell_type": "code",
   "execution_count": 5,
   "id": "26cae204-c913-47ed-9157-0c681d31481a",
   "metadata": {},
   "outputs": [],
   "source": [
    "def extract_features(images):\n",
    "    features = []\n",
    "    for image in tqdm(images):\n",
    "        img = load_img(image, grayscale=True)\n",
    "        img = img.resize((128, 128), Image.ANTIALIAS)\n",
    "        img = np.array(img)\n",
    "        features.append(img)\n",
    "        \n",
    "    features = np.array(features)\n",
    "    features = features.reshape(len(features), 128, 128, 1)\n",
    "    return features"
   ]
  },
  {
   "cell_type": "code",
   "execution_count": 7,
   "id": "026f2250-a8ea-4d95-9489-50eb32b6b7d7",
   "metadata": {},
   "outputs": [
    {
     "data": {
      "application/vnd.jupyter.widget-view+json": {
       "model_id": "cc1c74298843463fb4f825eb500a2e95",
       "version_major": 2,
       "version_minor": 0
      },
      "text/plain": [
       "  0%|          | 0/23700 [00:00<?, ?it/s]"
      ]
     },
     "metadata": {},
     "output_type": "display_data"
    }
   ],
   "source": [
    "from PIL import Image\n",
    "X = extract_features(df['image'])"
   ]
  },
  {
   "cell_type": "code",
   "execution_count": 8,
   "id": "da1f1a64-6c86-4d38-9ba5-8c82a3f8ef85",
   "metadata": {},
   "outputs": [
    {
     "data": {
      "text/plain": [
       "(23700, 128, 128, 1)"
      ]
     },
     "execution_count": 8,
     "metadata": {},
     "output_type": "execute_result"
    }
   ],
   "source": [
    "X.shape"
   ]
  },
  {
   "cell_type": "code",
   "execution_count": 10,
   "id": "90cc9deb-0b39-45d5-8225-b4015ada64df",
   "metadata": {},
   "outputs": [],
   "source": [
    "# normalize\n",
    "X = X / 255.0"
   ]
  },
  {
   "cell_type": "code",
   "execution_count": 14,
   "id": "ae0868c9-ae52-4e5b-a342-38af30a3649a",
   "metadata": {},
   "outputs": [],
   "source": [
    "y_age = np.array(df['age'])"
   ]
  },
  {
   "cell_type": "code",
   "execution_count": 12,
   "id": "92ddf1aa-18a9-4fc2-b719-a345f4d6b540",
   "metadata": {},
   "outputs": [],
   "source": [
    "input_shape = (128, 128, 1)"
   ]
  },
  {
   "cell_type": "code",
   "execution_count": 21,
   "id": "1a8d594c-a036-4943-8fcb-e8b307af6670",
   "metadata": {},
   "outputs": [],
   "source": [
    "inputs = Input((input_shape))\n",
    "# convolutional layers\n",
    "conv_1 = Conv2D(32, kernel_size=(3, 3), activation='relu') (inputs)\n",
    "maxp_1 = MaxPooling2D(pool_size=(2, 2)) (conv_1)\n",
    "conv_2 = Conv2D(64, kernel_size=(3, 3), activation='relu') (maxp_1)\n",
    "maxp_2 = MaxPooling2D(pool_size=(2, 2)) (conv_2)\n",
    "conv_3 = Conv2D(128, kernel_size=(3, 3), activation='relu') (maxp_2)\n",
    "maxp_3 = MaxPooling2D(pool_size=(2, 2)) (conv_3)\n",
    "conv_4 = Conv2D(256, kernel_size=(3, 3), activation='relu') (maxp_3)\n",
    "maxp_4 = MaxPooling2D(pool_size=(2, 2)) (conv_4)\n",
    "\n",
    "flatten = Flatten() (maxp_4)\n",
    "\n",
    "# fully connected layers\n",
    "dense_2 = Dense(256, activation='relu') (flatten)\n",
    "\n",
    "dropout_2 = Dropout(0.3) (dense_2)\n",
    "\n",
    "output_2 = Dense(1, activation='relu', name='age_out') (dropout_2)\n",
    "\n",
    "model = Model(inputs=[inputs], outputs=[output_2])\n",
    "\n",
    "model.compile(optimizer='adam', loss='mean_squared_error', metrics=['mae'])"
   ]
  },
  {
   "cell_type": "code",
   "execution_count": 22,
   "id": "19e8a303-6db6-4139-81c4-f901ae664d53",
   "metadata": {},
   "outputs": [
    {
     "name": "stdout",
     "output_type": "stream",
     "text": [
      "Epoch 1/30\n",
      "593/593 [==============================] - 156s 260ms/step - loss: 182.8489 - mae: 10.3640 - val_loss: 1683.7228 - val_mae: 36.8046\n",
      "Epoch 2/30\n",
      "593/593 [==============================] - 149s 250ms/step - loss: 107.5335 - mae: 7.9427 - val_loss: 978.5715 - val_mae: 28.0940\n",
      "Epoch 3/30\n",
      "593/593 [==============================] - 148s 250ms/step - loss: 86.0203 - mae: 6.9840 - val_loss: 891.2847 - val_mae: 26.5544\n",
      "Epoch 4/30\n",
      "593/593 [==============================] - 149s 251ms/step - loss: 75.7325 - mae: 6.5190 - val_loss: 905.8669 - val_mae: 26.8741\n",
      "Epoch 5/30\n",
      "593/593 [==============================] - 149s 251ms/step - loss: 67.5428 - mae: 6.1467 - val_loss: 687.8332 - val_mae: 23.0501\n",
      "Epoch 6/30\n",
      "593/593 [==============================] - 149s 251ms/step - loss: 60.8773 - mae: 5.8539 - val_loss: 820.5236 - val_mae: 25.2199\n",
      "Epoch 7/30\n",
      "593/593 [==============================] - 149s 251ms/step - loss: 55.4544 - mae: 5.5928 - val_loss: 538.6665 - val_mae: 19.8335\n",
      "Epoch 8/30\n",
      "593/593 [==============================] - 151s 254ms/step - loss: 51.3588 - mae: 5.3800 - val_loss: 452.9533 - val_mae: 18.1089\n",
      "Epoch 9/30\n",
      "593/593 [==============================] - 150s 253ms/step - loss: 47.8600 - mae: 5.2239 - val_loss: 413.4068 - val_mae: 17.1203\n",
      "Epoch 10/30\n",
      "593/593 [==============================] - 150s 252ms/step - loss: 42.5247 - mae: 4.9236 - val_loss: 479.6545 - val_mae: 18.5801\n",
      "Epoch 11/30\n",
      "593/593 [==============================] - 149s 252ms/step - loss: 39.2490 - mae: 4.7495 - val_loss: 448.9866 - val_mae: 17.8270\n",
      "Epoch 12/30\n",
      "593/593 [==============================] - 149s 252ms/step - loss: 35.5874 - mae: 4.5380 - val_loss: 387.1982 - val_mae: 16.3495\n",
      "Epoch 13/30\n",
      "593/593 [==============================] - 149s 252ms/step - loss: 32.3634 - mae: 4.3319 - val_loss: 400.8490 - val_mae: 16.6092\n",
      "Epoch 14/30\n",
      "593/593 [==============================] - 149s 251ms/step - loss: 28.6864 - mae: 4.0877 - val_loss: 323.6404 - val_mae: 14.6099\n",
      "Epoch 15/30\n",
      "593/593 [==============================] - 149s 251ms/step - loss: 26.1884 - mae: 3.9134 - val_loss: 563.4058 - val_mae: 20.1188\n",
      "Epoch 16/30\n",
      "593/593 [==============================] - 149s 251ms/step - loss: 24.7682 - mae: 3.8099 - val_loss: 384.6056 - val_mae: 16.0066\n",
      "Epoch 17/30\n",
      "593/593 [==============================] - 149s 252ms/step - loss: 22.1946 - mae: 3.5991 - val_loss: 333.9804 - val_mae: 14.7677\n",
      "Epoch 18/30\n",
      "593/593 [==============================] - 149s 252ms/step - loss: 20.6586 - mae: 3.4690 - val_loss: 461.3984 - val_mae: 17.8883\n",
      "Epoch 19/30\n",
      "593/593 [==============================] - 149s 252ms/step - loss: 18.5141 - mae: 3.3040 - val_loss: 382.0570 - val_mae: 15.9392\n",
      "Epoch 20/30\n",
      "593/593 [==============================] - 149s 252ms/step - loss: 18.4567 - mae: 3.2832 - val_loss: 437.2365 - val_mae: 17.4103\n",
      "Epoch 21/30\n",
      "593/593 [==============================] - 149s 252ms/step - loss: 17.2537 - mae: 3.1761 - val_loss: 362.0091 - val_mae: 15.5227\n",
      "Epoch 22/30\n",
      "593/593 [==============================] - 149s 251ms/step - loss: 16.9195 - mae: 3.1462 - val_loss: 418.6528 - val_mae: 16.8817\n",
      "Epoch 23/30\n",
      "593/593 [==============================] - 150s 252ms/step - loss: 15.7742 - mae: 3.0332 - val_loss: 444.7525 - val_mae: 17.4179\n",
      "Epoch 24/30\n",
      "593/593 [==============================] - 150s 252ms/step - loss: 15.0252 - mae: 2.9611 - val_loss: 409.6126 - val_mae: 16.6787\n",
      "Epoch 25/30\n",
      "593/593 [==============================] - 149s 252ms/step - loss: 15.1857 - mae: 2.9428 - val_loss: 478.3272 - val_mae: 18.2055\n",
      "Epoch 26/30\n",
      "593/593 [==============================] - 150s 252ms/step - loss: 14.6440 - mae: 2.8967 - val_loss: 369.8285 - val_mae: 15.6521\n",
      "Epoch 27/30\n",
      "593/593 [==============================] - 150s 252ms/step - loss: 14.5616 - mae: 2.8713 - val_loss: 415.4051 - val_mae: 16.7100\n",
      "Epoch 28/30\n",
      "593/593 [==============================] - 149s 252ms/step - loss: 13.3922 - mae: 2.7648 - val_loss: 429.6804 - val_mae: 17.2034\n",
      "Epoch 29/30\n",
      "593/593 [==============================] - 150s 252ms/step - loss: 13.1838 - mae: 2.7477 - val_loss: 435.8240 - val_mae: 17.2631\n",
      "Epoch 30/30\n",
      "593/593 [==============================] - 150s 253ms/step - loss: 12.6364 - mae: 2.6992 - val_loss: 457.4875 - val_mae: 17.7850\n"
     ]
    }
   ],
   "source": [
    "# train model\n",
    "history = model.fit(x=X, y=y_age, batch_size=32, epochs=30, validation_split=0.2)"
   ]
  },
  {
   "cell_type": "code",
   "execution_count": 23,
   "id": "48250f41-b986-4d34-8d4a-44d3690885d5",
   "metadata": {},
   "outputs": [],
   "source": [
    "model.save('age_detection_model.h5')"
   ]
  },
  {
   "cell_type": "code",
   "execution_count": null,
   "id": "ebae33fa-f91b-41c8-a821-47f38f5458dc",
   "metadata": {},
   "outputs": [],
   "source": []
  }
 ],
 "metadata": {
  "kernelspec": {
   "display_name": "Python 3 (ipykernel)",
   "language": "python",
   "name": "python3"
  },
  "language_info": {
   "codemirror_mode": {
    "name": "ipython",
    "version": 3
   },
   "file_extension": ".py",
   "mimetype": "text/x-python",
   "name": "python",
   "nbconvert_exporter": "python",
   "pygments_lexer": "ipython3",
   "version": "3.11.6"
  }
 },
 "nbformat": 4,
 "nbformat_minor": 5
}
