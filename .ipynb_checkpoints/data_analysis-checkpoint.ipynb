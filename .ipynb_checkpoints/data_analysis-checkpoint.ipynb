{
 "cells": [
  {
   "cell_type": "code",
   "execution_count": null,
   "id": "3e2e143f-1296-4716-97e4-6560701e9cef",
   "metadata": {},
   "outputs": [],
   "source": [
    "import numpy as np # linear algebra\n",
    "import pandas as pd # data processing, CSV file I/O (e.g. pd.read_csv)\n",
    "import cv2\n",
    "import cv2 as cv\n",
    "import os\n",
    "import matplotlib.pyplot as plt\n",
    "import seaborn as sns"
   ]
  },
  {
   "cell_type": "code",
   "execution_count": null,
   "id": "3b62c923-22b1-4b63-bb22-75726fcbc18a",
   "metadata": {},
   "outputs": [],
   "source": [
    "XData = []\n",
    "yData = []\n",
    "\n",
    "age_list = dict()\n",
    "\n",
    "for dirname, _, filenames in os.walk('dataset'):\n",
    "    for i,filename in enumerate(filenames):\n",
    "        content = filename.split(\"_\")\n",
    "        age = content[0]\n",
    "        \n",
    "        try:\n",
    "        \n",
    "            if(age_list[age] < 110):\n",
    "                yData.append(content[0])\n",
    "\n",
    "                img = cv2.imread(os.path.join(dirname, filename))\n",
    "                img = img / 25\n",
    "                img = cv2.resize(img, (150, 150))\n",
    "                XData.append(img)\n",
    "\n",
    "                age_list[age] = age_list[age] + 1\n",
    "            \n",
    "        \n",
    "        except:\n",
    "            age_list[age] = 0\n",
    "        \n",
    "        if(i % 100 == 0):\n",
    "            print(i, end = \" \")"
   ]
  },
  {
   "cell_type": "code",
   "execution_count": null,
   "id": "3cf47dbd-6ef9-4c6c-af12-66a728c16fe8",
   "metadata": {},
   "outputs": [],
   "source": [
    "# Now, let's perform EDA on the collected data:\n",
    "# 2. Descriptive Statistics (for age):\n",
    "age_values = [int(age) for age in yData]\n",
    "age_series = pd.Series(age_values)\n",
    "age_summary = age_series.describe()\n",
    "\n",
    "# 3. Data Visualization\n",
    "# Plot age distribution\n",
    "plt.figure(figsize=(10, 6))\n",
    "sns.histplot(age_values, kde=True)\n",
    "plt.title('Age Distribution')\n",
    "plt.xlabel('Age')\n",
    "plt.ylabel('Frequency')\n",
    "plt.grid(True)\n",
    "plt.show()\n",
    "\n",
    "# find more data to make all 300 (75+)"
   ]
  },
  {
   "cell_type": "code",
   "execution_count": null,
   "id": "47558996-ee7e-4334-8812-81c33fa656f9",
   "metadata": {},
   "outputs": [],
   "source": [
    "age_summary"
   ]
  },
  {
   "cell_type": "code",
   "execution_count": null,
   "id": "92924b79-65a8-4ced-9847-cc7466718c09",
   "metadata": {},
   "outputs": [],
   "source": [
    "age_series.head()"
   ]
  },
  {
   "cell_type": "code",
   "execution_count": null,
   "id": "a31d44ca-436b-4335-a7e9-23784691d916",
   "metadata": {},
   "outputs": [],
   "source": [
    "age_series.shape"
   ]
  },
  {
   "cell_type": "code",
   "execution_count": null,
   "id": "49f32039-d394-4b3e-b90c-05b243ed57a0",
   "metadata": {},
   "outputs": [],
   "source": [
    "age_series.info()"
   ]
  },
  {
   "cell_type": "code",
   "execution_count": null,
   "id": "81fde98b-e8c7-4cb9-8525-34d7d88f4af4",
   "metadata": {},
   "outputs": [],
   "source": [
    "age_series.nunique()"
   ]
  },
  {
   "cell_type": "markdown",
   "id": "468d2674-b979-4d30-9c51-f4ce40ad88ac",
   "metadata": {},
   "source": [
    "**Histogram Equalization**"
   ]
  },
  {
   "cell_type": "code",
   "execution_count": null,
   "id": "3b619822-26f6-4902-933d-d9ae300d4efc",
   "metadata": {},
   "outputs": [],
   "source": [
    "# Contrast Limited Adaptive Histogram Equalization\n",
    "# use this if you need to apply a contrast filter\n",
    "\n",
    "# for dirname, _, filenames in os.walk('dataset - Copy'):\n",
    "#    for filename in filenames:        \n",
    "#        img = cv2.imread(os.path.join(dirname, filename), cv.IMREAD_GRAYSCALE)\n",
    "#        assert img is not None, \"file could not be read, check with os.path.exists()\"\n",
    "#        # create a CLAHE object (Arguments are optional).\n",
    "#        clahe = cv.createCLAHE(clipLimit=2.0, tileGridSize=(8,8))\n",
    "#        cl1 = clahe.apply(img)\n",
    "#        cv.imwrite(os.path.join(dirname, filename), cl1)"
   ]
  },
  {
   "cell_type": "code",
   "execution_count": null,
   "id": "05f576f7-96e4-4b2c-acbf-bfdce6a38874",
   "metadata": {},
   "outputs": [],
   "source": [
    "# Function to calculate normalized histogram and CDF for a given age value\n",
    "def calculate_histogram_and_cdf(age_value):\n",
    "    img_sum = np.array([0] * 40000)\n",
    "    count = 0\n",
    "    for dirname, _, filenames in os.walk('dataset'):\n",
    "        for i, filename in enumerate(filenames):\n",
    "            content = filename.split(\"_\")\n",
    "            age = content[0]\n",
    "            if (age == age_value):\n",
    "                img = np.array(cv2.imread(os.path.join(dirname, filename), cv2.IMREAD_GRAYSCALE))\n",
    "                img_sum = np.add(img_sum, img.flatten())\n",
    "                count = count + 1\n",
    "    average = np.divide(img_sum, count)\n",
    "\n",
    "    # Calculate histogram of the 'average' array\n",
    "    hist, bins = np.histogram(average, 256, [0, 256])\n",
    "\n",
    "    # Normalize the histogram's y-axis values to the range [0, 1]\n",
    "    normalized_hist = hist / np.max(hist)\n",
    "\n",
    "    # Calculate cumulative distribution function (CDF)\n",
    "    cdf = hist.cumsum()\n",
    "    cdf_normalized = cdf / cdf.max()\n",
    "\n",
    "    return bins, normalized_hist, cdf_normalized\n",
    "\n",
    "# Calculate histogram and CDF for age 1 and age 100\n",
    "bins_age_1, normalized_hist_age_1, cdf_normalized_age_1 = calculate_histogram_and_cdf('1')\n",
    "bins_age_100, normalized_hist_age_100, cdf_normalized_age_100 = calculate_histogram_and_cdf('100')\n",
    "\n",
    "# Plot both histograms and CDFs on the same graph for comparison\n",
    "plt.figure(figsize=(10, 6))\n",
    "plt.plot(cdf_normalized_age_1, color='b', label='Age 1 CDF')\n",
    "plt.plot(cdf_normalized_age_100, color='r', label='Age 100 CDF')\n",
    "plt.bar(bins_age_1[:-1], normalized_hist_age_1, width=(bins_age_1[1] - bins_age_1[0]), color='b', alpha=0.5, label='Age 1 Histogram')\n",
    "plt.bar(bins_age_100[:-1], normalized_hist_age_100, width=(bins_age_100[1] - bins_age_100[0]), color='r', alpha=0.5, label='Age 100 Histogram')\n",
    "plt.xlim([0, 256])\n",
    "plt.ylim([0, 1])\n",
    "plt.legend()\n",
    "plt.xlabel('Pixel Intensity')\n",
    "plt.ylabel('Normalized Frequency / CDF')\n",
    "plt.title('Comparison of Normalized Histograms and CDFs for Age 1 and Age 100')\n",
    "plt.show()"
   ]
  }
 ],
 "metadata": {
  "kernelspec": {
   "display_name": "Python 3 (ipykernel)",
   "language": "python",
   "name": "python3"
  },
  "language_info": {
   "codemirror_mode": {
    "name": "ipython",
    "version": 3
   },
   "file_extension": ".py",
   "mimetype": "text/x-python",
   "name": "python",
   "nbconvert_exporter": "python",
   "pygments_lexer": "ipython3",
   "version": "3.12.0"
  }
 },
 "nbformat": 4,
 "nbformat_minor": 5
}
